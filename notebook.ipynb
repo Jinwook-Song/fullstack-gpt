{
 "cells": [
  {
   "cell_type": "code",
   "execution_count": 2,
   "metadata": {},
   "outputs": [],
   "source": [
    "import subprocess  # cli 실행\n",
    "from pydub import AudioSegment\n",
    "import math\n",
    "\n",
    "\n",
    "def extract_audio_from_video(video_path, audio_path):\n",
    "    command = [\"ffmpeg\", \"-i\", video_path, \"-vn\", audio_path]\n",
    "    subprocess.run(command)\n",
    "\n",
    "\n",
    "def split_audio(audio_path, chunks_folder, chunk_size=10):\n",
    "    track = AudioSegment.from_mp3(audio_path)\n",
    "    chunk_len = chunk_size * 60 * 1000\n",
    "    chunks = math.ceil(len(track) / chunk_len)\n",
    "\n",
    "    for i in range(chunks):\n",
    "        start_time = i * chunk_len\n",
    "        end_time = (i + 1) * chunk_len\n",
    "        chunk = track[start_time:end_time]\n",
    "        chunk.export(f\"{chunks_folder}/chunk_{str(i).zfill(2)}.mp3\", format=\"mp3\")"
   ]
  },
  {
   "cell_type": "code",
   "execution_count": 4,
   "metadata": {},
   "outputs": [],
   "source": [
    "split_audio(\n",
    "    \"files/audios/steve_jobs_keynotes_audio.mp3\",\n",
    "    \"files/audios/chunks\",\n",
    ")"
   ]
  },
  {
   "cell_type": "code",
   "execution_count": 15,
   "metadata": {},
   "outputs": [],
   "source": [
    "import openai\n",
    "from glob import glob\n",
    "\n",
    "\n",
    "def transcribe_chunks(chunk_folder, destination):\n",
    "    files = sorted(glob(f\"{chunk_folder}/*.mp3\"))\n",
    "\n",
    "    for file in files:\n",
    "        with open(file, \"rb\") as audio_file, open(destination, \"a\") as text_file:\n",
    "            transcript = openai.Audio.transcribe(\"whisper-1\", audio_file)\n",
    "            text_file.write(transcript[\"text\"])\n",
    "\n",
    "\n",
    "transcribe_chunks(\"./files/audios/chunks\", \"./files/audios/transcript.txt\")"
   ]
  }
 ],
 "metadata": {
  "kernelspec": {
   "display_name": "python_virtualenv_fullstack-gpt",
   "language": "python",
   "name": "python3"
  },
  "language_info": {
   "codemirror_mode": {
    "name": "ipython",
    "version": 3
   },
   "file_extension": ".py",
   "mimetype": "text/x-python",
   "name": "python",
   "nbconvert_exporter": "python",
   "pygments_lexer": "ipython3",
   "version": "3.11.3"
  },
  "orig_nbformat": 4
 },
 "nbformat": 4,
 "nbformat_minor": 2
}
