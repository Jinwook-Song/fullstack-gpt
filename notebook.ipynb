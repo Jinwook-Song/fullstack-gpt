{
 "cells": [
  {
   "cell_type": "code",
   "execution_count": 7,
   "metadata": {},
   "outputs": [
    {
     "name": "stderr",
     "output_type": "stream",
     "text": [
      "Using pad_token, but it is not set yet.\n"
     ]
    },
    {
     "ename": "ValueError",
     "evalue": "Got device==0, device is required to be within [-1, 0)",
     "output_type": "error",
     "traceback": [
      "\u001b[0;31m---------------------------------------------------------------------------\u001b[0m",
      "\u001b[0;31mValueError\u001b[0m                                Traceback (most recent call last)",
      "\u001b[1;32m/Users/jinwook/repository/my_projects/gpt/fullstack-gpt/notebook.ipynb Cell 1\u001b[0m line \u001b[0;36m9\n\u001b[1;32m      <a href='vscode-notebook-cell:/Users/jinwook/repository/my_projects/gpt/fullstack-gpt/notebook.ipynb#W0sZmlsZQ%3D%3D?line=1'>2</a>\u001b[0m \u001b[39mfrom\u001b[39;00m \u001b[39mlangchain\u001b[39;00m\u001b[39m.\u001b[39;00m\u001b[39mprompts\u001b[39;00m \u001b[39mimport\u001b[39;00m PromptTemplate\n\u001b[1;32m      <a href='vscode-notebook-cell:/Users/jinwook/repository/my_projects/gpt/fullstack-gpt/notebook.ipynb#W0sZmlsZQ%3D%3D?line=4'>5</a>\u001b[0m prompt \u001b[39m=\u001b[39m PromptTemplate\u001b[39m.\u001b[39mfrom_template(\n\u001b[1;32m      <a href='vscode-notebook-cell:/Users/jinwook/repository/my_projects/gpt/fullstack-gpt/notebook.ipynb#W0sZmlsZQ%3D%3D?line=5'>6</a>\u001b[0m     \u001b[39m\"\u001b[39m\u001b[39mA \u001b[39m\u001b[39m{word}\u001b[39;00m\u001b[39m is a\u001b[39m\u001b[39m\"\u001b[39m,\n\u001b[1;32m      <a href='vscode-notebook-cell:/Users/jinwook/repository/my_projects/gpt/fullstack-gpt/notebook.ipynb#W0sZmlsZQ%3D%3D?line=6'>7</a>\u001b[0m )\n\u001b[0;32m----> <a href='vscode-notebook-cell:/Users/jinwook/repository/my_projects/gpt/fullstack-gpt/notebook.ipynb#W0sZmlsZQ%3D%3D?line=8'>9</a>\u001b[0m llm \u001b[39m=\u001b[39m HuggingFacePipeline\u001b[39m.\u001b[39;49mfrom_model_id(\n\u001b[1;32m     <a href='vscode-notebook-cell:/Users/jinwook/repository/my_projects/gpt/fullstack-gpt/notebook.ipynb#W0sZmlsZQ%3D%3D?line=9'>10</a>\u001b[0m     model_id\u001b[39m=\u001b[39;49m\u001b[39m\"\u001b[39;49m\u001b[39mgpt2\u001b[39;49m\u001b[39m\"\u001b[39;49m,\n\u001b[1;32m     <a href='vscode-notebook-cell:/Users/jinwook/repository/my_projects/gpt/fullstack-gpt/notebook.ipynb#W0sZmlsZQ%3D%3D?line=10'>11</a>\u001b[0m     task\u001b[39m=\u001b[39;49m\u001b[39m\"\u001b[39;49m\u001b[39mtext-generation\u001b[39;49m\u001b[39m\"\u001b[39;49m,\n\u001b[1;32m     <a href='vscode-notebook-cell:/Users/jinwook/repository/my_projects/gpt/fullstack-gpt/notebook.ipynb#W0sZmlsZQ%3D%3D?line=11'>12</a>\u001b[0m     device\u001b[39m=\u001b[39;49m\u001b[39m0\u001b[39;49m,  \u001b[39m# 0[GPU], -1[CPU(Default)]\u001b[39;49;00m\n\u001b[1;32m     <a href='vscode-notebook-cell:/Users/jinwook/repository/my_projects/gpt/fullstack-gpt/notebook.ipynb#W0sZmlsZQ%3D%3D?line=12'>13</a>\u001b[0m     pipeline_kwargs\u001b[39m=\u001b[39;49m{\n\u001b[1;32m     <a href='vscode-notebook-cell:/Users/jinwook/repository/my_projects/gpt/fullstack-gpt/notebook.ipynb#W0sZmlsZQ%3D%3D?line=13'>14</a>\u001b[0m         \u001b[39m\"\u001b[39;49m\u001b[39mmax_new_tokens\u001b[39;49m\u001b[39m\"\u001b[39;49m: \u001b[39m150\u001b[39;49m,\n\u001b[1;32m     <a href='vscode-notebook-cell:/Users/jinwook/repository/my_projects/gpt/fullstack-gpt/notebook.ipynb#W0sZmlsZQ%3D%3D?line=14'>15</a>\u001b[0m     },\n\u001b[1;32m     <a href='vscode-notebook-cell:/Users/jinwook/repository/my_projects/gpt/fullstack-gpt/notebook.ipynb#W0sZmlsZQ%3D%3D?line=15'>16</a>\u001b[0m )\n\u001b[1;32m     <a href='vscode-notebook-cell:/Users/jinwook/repository/my_projects/gpt/fullstack-gpt/notebook.ipynb#W0sZmlsZQ%3D%3D?line=17'>18</a>\u001b[0m chain \u001b[39m=\u001b[39m prompt \u001b[39m|\u001b[39m llm\n\u001b[1;32m     <a href='vscode-notebook-cell:/Users/jinwook/repository/my_projects/gpt/fullstack-gpt/notebook.ipynb#W0sZmlsZQ%3D%3D?line=19'>20</a>\u001b[0m chain\u001b[39m.\u001b[39minvoke({\u001b[39m\"\u001b[39m\u001b[39mword\u001b[39m\u001b[39m\"\u001b[39m: \u001b[39m\"\u001b[39m\u001b[39mkimchi\u001b[39m\u001b[39m\"\u001b[39m})\n",
      "File \u001b[0;32m~/.pyenv/versions/3.11.3/envs/python_virtualenv_fullstack-gpt/lib/python3.11/site-packages/langchain/llms/huggingface_pipeline.py:132\u001b[0m, in \u001b[0;36mHuggingFacePipeline.from_model_id\u001b[0;34m(cls, model_id, task, device, device_map, model_kwargs, pipeline_kwargs, batch_size, **kwargs)\u001b[0m\n\u001b[1;32m    130\u001b[0m cuda_device_count \u001b[39m=\u001b[39m torch\u001b[39m.\u001b[39mcuda\u001b[39m.\u001b[39mdevice_count()\n\u001b[1;32m    131\u001b[0m \u001b[39mif\u001b[39;00m device \u001b[39m<\u001b[39m \u001b[39m-\u001b[39m\u001b[39m1\u001b[39m \u001b[39mor\u001b[39;00m (device \u001b[39m>\u001b[39m\u001b[39m=\u001b[39m cuda_device_count):\n\u001b[0;32m--> 132\u001b[0m     \u001b[39mraise\u001b[39;00m \u001b[39mValueError\u001b[39;00m(\n\u001b[1;32m    133\u001b[0m         \u001b[39mf\u001b[39m\u001b[39m\"\u001b[39m\u001b[39mGot device==\u001b[39m\u001b[39m{\u001b[39;00mdevice\u001b[39m}\u001b[39;00m\u001b[39m, \u001b[39m\u001b[39m\"\u001b[39m\n\u001b[1;32m    134\u001b[0m         \u001b[39mf\u001b[39m\u001b[39m\"\u001b[39m\u001b[39mdevice is required to be within [-1, \u001b[39m\u001b[39m{\u001b[39;00mcuda_device_count\u001b[39m}\u001b[39;00m\u001b[39m)\u001b[39m\u001b[39m\"\u001b[39m\n\u001b[1;32m    135\u001b[0m     )\n\u001b[1;32m    136\u001b[0m \u001b[39mif\u001b[39;00m device_map \u001b[39mis\u001b[39;00m \u001b[39mnot\u001b[39;00m \u001b[39mNone\u001b[39;00m \u001b[39mand\u001b[39;00m device \u001b[39m<\u001b[39m \u001b[39m0\u001b[39m:\n\u001b[1;32m    137\u001b[0m     device \u001b[39m=\u001b[39m \u001b[39mNone\u001b[39;00m\n",
      "\u001b[0;31mValueError\u001b[0m: Got device==0, device is required to be within [-1, 0)"
     ]
    }
   ],
   "source": [
    "from langchain.llms.huggingface_pipeline import HuggingFacePipeline\n",
    "from langchain.prompts import PromptTemplate\n",
    "\n",
    "\n",
    "prompt = PromptTemplate.from_template(\n",
    "    \"A {word} is a\",\n",
    ")\n",
    "\n",
    "llm = HuggingFacePipeline.from_model_id(\n",
    "    model_id=\"gpt2\",\n",
    "    task=\"text-generation\",\n",
    "    device=-1,  # 0[GPU], -1[CPU(Default)]\n",
    "    pipeline_kwargs={\n",
    "        \"max_new_tokens\": 150,\n",
    "    },\n",
    ")\n",
    "\n",
    "chain = prompt | llm\n",
    "\n",
    "chain.invoke({\"word\": \"kimchi\"})"
   ]
  }
 ],
 "metadata": {
  "kernelspec": {
   "display_name": "python_virtualenv_fullstack-gpt",
   "language": "python",
   "name": "python3"
  },
  "language_info": {
   "codemirror_mode": {
    "name": "ipython",
    "version": 3
   },
   "file_extension": ".py",
   "mimetype": "text/x-python",
   "name": "python",
   "nbconvert_exporter": "python",
   "pygments_lexer": "ipython3",
   "version": "3.11.3"
  },
  "orig_nbformat": 4
 },
 "nbformat": 4,
 "nbformat_minor": 2
}
